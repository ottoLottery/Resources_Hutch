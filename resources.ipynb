{
 "cells": [
  {
   "cell_type": "code",
   "execution_count": 107,
   "id": "f9d5d7f0",
   "metadata": {},
   "outputs": [],
   "source": [
    "import requests\n",
    "import time\n",
    "import pandas as pd\n",
    "import bs4\n",
    "import matplotlib.pyplot as plt\n",
    "import seaborn as sns\n",
    "from deepdiff import DeepDiff"
   ]
  },
  {
   "cell_type": "markdown",
   "id": "804a74e7",
   "metadata": {},
   "source": [
    "### get_page\n",
    "params: url str<br>\n",
    "returns: soup obj"
   ]
  },
  {
   "cell_type": "code",
   "execution_count": 108,
   "id": "1581f58d",
   "metadata": {},
   "outputs": [],
   "source": [
    "def get_page(url):\n",
    "    request = requests.get(url)\n",
    "    request.encoding = None\n",
    "    numsoup = bs4.BeautifulSoup(request.text, \"html.parser\")\n",
    "    time.sleep(2)\n",
    "    return numsoup"
   ]
  },
  {
   "cell_type": "markdown",
   "id": "5069fb04",
   "metadata": {},
   "source": [
    "### text_list\n",
    "params: soup obj<br>\n",
    "returns: list str"
   ]
  },
  {
   "cell_type": "code",
   "execution_count": 109,
   "id": "04b75b71",
   "metadata": {},
   "outputs": [],
   "source": [
    "def text_list(x):\n",
    "    x = x.text.split(\"\\n\")\n",
    "    new = []\n",
    "    for val in x:\n",
    "        if val != \"\" and val != \"\\xa0\\xa0\":\n",
    "            new.append(val)\n",
    "    return new"
   ]
  },
  {
   "cell_type": "markdown",
   "id": "e6d901c8",
   "metadata": {},
   "source": [
    "### read_file\n",
    "params: file_name of file in the same directory str<br>\n",
    "scrape_dict dictionary str<br>\n",
    "returns: dictionary from file to compare to scraped dictionary str"
   ]
  },
  {
   "cell_type": "code",
   "execution_count": 110,
   "id": "edef3a94",
   "metadata": {},
   "outputs": [],
   "source": [
    "def read_file(file_name, scrape_dict):\n",
    "    \n",
    "    f = open(file_name, \"r\")\n",
    "\n",
    "    file_dict = {}\n",
    "    for key in scrape_dict:\n",
    "        file_dict[key] = \"\"\n",
    "\n",
    "    file = []\n",
    "    index = []\n",
    "    line = f.readline()\n",
    "    file.append(line.strip(\"\\n\"))\n",
    "    x = []\n",
    "    x.append(file.index(line.strip(\"\\n\")))\n",
    "\n",
    "    while line:\n",
    "        line = f.readline() \n",
    "        line = line.strip(\"\\n\")\n",
    "        file.append(line)\n",
    "        if line in file_dict:\n",
    "            x.append(file.index(line))\n",
    "\n",
    "    for i in range(len(x)):\n",
    "        if i+1 < len(x):\n",
    "            file_dict[file[x[i]]] = file[x[i]+1:x[i+1]]\n",
    "        else:\n",
    "            file_dict[file[x[i]]] = file[x[i]+1:-1]\n",
    "\n",
    "    f.close()\n",
    "    \n",
    "    return file_dict"
   ]
  },
  {
   "cell_type": "markdown",
   "id": "816918ea",
   "metadata": {},
   "source": [
    "### get_differences\n",
    "params: text dictionary str<br>\n",
    "scrape_dict dictionary str<br>\n",
    "name of website str<br>\n",
    "returns: na, prints differences<br>\n",
    "calls write_to_file if there are differences to update txt file"
   ]
  },
  {
   "cell_type": "code",
   "execution_count": 111,
   "id": "52da5cc8",
   "metadata": {},
   "outputs": [],
   "source": [
    "def get_differences(text_dict, scraped_dict, name, file_name):\n",
    "    diff = DeepDiff(text_dict, scraped_dict)\n",
    "    print(name+\":\")\n",
    "    if diff == {}:\n",
    "        print(\"Nothing new to report!\")\n",
    "    else:\n",
    "        print(diff)\n",
    "        write_to_file(file_name, scrape_dict)"
   ]
  },
  {
   "cell_type": "markdown",
   "id": "05df909f",
   "metadata": {},
   "source": [
    "### write_to_file\n",
    "params: text dictionary str<br>\n",
    "file name str<br>\n",
    "returns: na"
   ]
  },
  {
   "cell_type": "code",
   "execution_count": 112,
   "id": "d71f6b0d",
   "metadata": {},
   "outputs": [],
   "source": [
    "def write_to_file(file_name, scrape_dict):\n",
    "    f = open(file_name, \"w\")\n",
    "    for key in scrape_dict:\n",
    "        f.write(key+\"\\n\")\n",
    "        for val in scrape_dict[key]:\n",
    "            f.write(val+\"\\n\")\n",
    "    f.close()"
   ]
  },
  {
   "cell_type": "markdown",
   "id": "e8c76930",
   "metadata": {},
   "source": [
    "## ICLR"
   ]
  },
  {
   "cell_type": "code",
   "execution_count": 113,
   "id": "f10f1fb5",
   "metadata": {},
   "outputs": [],
   "source": [
    "def ICLR():\n",
    "    \n",
    "    iclr_url = \"https://iclr.cc/Conferences/2023\"\n",
    "    iclr_titles = {\"Registration\":\"\", \"Announcements\":\"\",\"Important Dates\":\"\"}\n",
    "    soup = get_page(iclr_url)\n",
    "\n",
    "    parent = soup.find_all(class_=\"col-sm-6\")\n",
    "    registration = parent[1].find_all(\"div\")\n",
    "    announcements = parent[2]\n",
    "    registration[2]\n",
    "    parent_dates = soup.find_all(class_=\"col-xs-12\")\n",
    "    dates = parent_dates[1].find_all(\"span\")\n",
    "\n",
    "    registration = text_list(registration[0])\n",
    "    iclr_titles[\"Registration\"] = registration[1:]\n",
    "    announcements = text_list(announcements)\n",
    "    iclr_titles[\"Announcements\"] = announcements[1:]\n",
    "\n",
    "    new_dates = []\n",
    "    for val in dates:\n",
    "        if val.text != \"\" and val.text != \"*\":\n",
    "            new_dates.append(val.text)\n",
    "    iclr_titles[\"Important Dates\"] = new_dates\n",
    "\n",
    "    text_dict = read_file(\"iclr.txt\", iclr_titles)\n",
    "\n",
    "    get_differences(text_dict, iclr_titles, \"ICLR\", \"iclr.txt\")"
   ]
  },
  {
   "cell_type": "code",
   "execution_count": 114,
   "id": "56bb3f6a",
   "metadata": {
    "scrolled": true
   },
   "outputs": [
    {
     "name": "stdout",
     "output_type": "stream",
     "text": [
      "ICLR:\n",
      "Nothing new to report!\n"
     ]
    }
   ],
   "source": [
    "ICLR()"
   ]
  }
 ],
 "metadata": {
  "kernelspec": {
   "display_name": "Python 3.11.0 64-bit",
   "language": "python",
   "name": "python3"
  },
  "language_info": {
   "codemirror_mode": {
    "name": "ipython",
    "version": 3
   },
   "file_extension": ".py",
   "mimetype": "text/x-python",
   "name": "python",
   "nbconvert_exporter": "python",
   "pygments_lexer": "ipython3",
   "version": "3.11.0"
  },
  "vscode": {
   "interpreter": {
    "hash": "aee8b7b246df8f9039afb4144a1f6fd8d2ca17a180786b69acc140d282b71a49"
   }
  }
 },
 "nbformat": 4,
 "nbformat_minor": 5
}
